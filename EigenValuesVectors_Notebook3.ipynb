{
 "cells": [
  {
   "cell_type": "code",
   "execution_count": 28,
   "id": "a8a20d31",
   "metadata": {},
   "outputs": [],
   "source": [
    "import numpy as np"
   ]
  },
  {
   "cell_type": "markdown",
   "id": "a9a4d1ce",
   "metadata": {},
   "source": [
    "## Step 1: Define the matrix"
   ]
  },
  {
   "cell_type": "code",
   "execution_count": 29,
   "id": "1a5e5a0b",
   "metadata": {},
   "outputs": [
    {
     "name": "stdout",
     "output_type": "stream",
     "text": [
      "[[ 0  1  2]\n",
      " [ 1  0  3]\n",
      " [ 4 -3  8]]\n"
     ]
    }
   ],
   "source": [
    "A = np.array([[0,1,2],[1,0,3],[4,-3,8]])\n",
    "print(A)"
   ]
  },
  {
   "cell_type": "markdown",
   "id": "ffd44881",
   "metadata": {},
   "source": [
    "## Step 2: Calculate Inverse of the matrix"
   ]
  },
  {
   "cell_type": "markdown",
   "id": "8428a119",
   "metadata": {},
   "source": [
    "### Step 2.1: Augment A with identity matrix"
   ]
  },
  {
   "cell_type": "code",
   "execution_count": 30,
   "id": "494bebc6",
   "metadata": {},
   "outputs": [
    {
     "name": "stdout",
     "output_type": "stream",
     "text": [
      "[[ 0.  1.  2.  1.  0.  0.]\n",
      " [ 1.  0.  3.  0.  1.  0.]\n",
      " [ 4. -3.  8.  0.  0.  1.]]\n"
     ]
    }
   ],
   "source": [
    "augmentedmatrix = np.hstack((A, np.identity(len(A)))) #Takes only one argument. \n",
    "print(augmentedmatrix)"
   ]
  },
  {
   "cell_type": "markdown",
   "id": "8f710000",
   "metadata": {},
   "source": [
    "### Step 2.2: Perform Gaussian elimination to convert the augmented matrix to reduced row echelon form"
   ]
  },
  {
   "cell_type": "code",
   "execution_count": 31,
   "id": "c8750ac9",
   "metadata": {},
   "outputs": [
    {
     "data": {
      "text/plain": [
       "3"
      ]
     },
     "execution_count": 31,
     "metadata": {},
     "output_type": "execute_result"
    }
   ],
   "source": [
    "n = len(augmented_matrix)# Return number of rows\n",
    "n"
   ]
  },
  {
   "cell_type": "code",
   "execution_count": 32,
   "id": "c86fb4d6",
   "metadata": {},
   "outputs": [],
   "source": [
    "for i in range(n): # For each row in the augmented matrix\n",
    "    # Partial pivoting\n",
    "    max_row = i #Indicates the current row here , it may be 0,1,2 row\n",
    "    for k in range(i+1, n): # Indicates the rows after the current row , for example if current row is 0 then k value will be 1,2\n",
    "        if abs(augmented_matrix[k][i]) > abs(augmented_matrix[max_row][i]): #find the pivot element (which is the largest element)\n",
    "            max_row = k\n",
    "    augmented_matrix[[i, max_row]] = augmented_matrix[[max_row, i]] #Swapping\n",
    "\n",
    "    # Make the diagonal element 1\n",
    "    divisor = augmented_matrix[i][i]#fetching the diagonals like matrix[1,1],matrix[2,2],matrix[3,3]\n",
    "    augmented_matrix[i] /= divisor #Divede the entire current row with the diagonal value\n",
    "\n",
    "    # Make other elements in the current column zero\n",
    "    for k in range(n):\n",
    "        if k != i: #Rows other than the current one\n",
    "            factor = augmented_matrix[k][i] #Extracting the element which you want to make it as zero\n",
    "            augmented_matrix[k] -= factor * augmented_matrix[i] # Perfoming the opertion on the entire row"
   ]
  },
  {
   "cell_type": "markdown",
   "id": "4a119dd2",
   "metadata": {},
   "source": [
    "### Step 2.3: Extract the inverse matrix from the augmented matrix"
   ]
  },
  {
   "cell_type": "code",
   "execution_count": 33,
   "id": "b8472b35",
   "metadata": {},
   "outputs": [
    {
     "name": "stdout",
     "output_type": "stream",
     "text": [
      "Inverse of A:\n",
      "[[ 1.4 -0.8 -1. ]\n",
      " [-0.2  0.4  0. ]\n",
      " [-1.6  0.2  2. ]]\n"
     ]
    }
   ],
   "source": [
    "inverse_matrix = augmented_matrix[:, n:]\n",
    "\n",
    "# Print the inverse matrix\n",
    "print(\"Inverse of A:\")\n",
    "print(inverse_matrix)"
   ]
  },
  {
   "cell_type": "code",
   "execution_count": 25,
   "id": "580b23ca",
   "metadata": {},
   "outputs": [
    {
     "name": "stdout",
     "output_type": "stream",
     "text": [
      "[[ 1.4 -0.8 -1. ]\n",
      " [-0.2  0.4  0. ]\n",
      " [-1.6  0.2  2. ]]\n"
     ]
    }
   ],
   "source": [
    "#Cross Verifying with the output of python built-in function\n",
    "inverse_A = np.linalg.inv(A)\n",
    "print(inverse_A)"
   ]
  }
 ],
 "metadata": {
  "kernelspec": {
   "display_name": "Python 3 (ipykernel)",
   "language": "python",
   "name": "python3"
  },
  "language_info": {
   "codemirror_mode": {
    "name": "ipython",
    "version": 3
   },
   "file_extension": ".py",
   "mimetype": "text/x-python",
   "name": "python",
   "nbconvert_exporter": "python",
   "pygments_lexer": "ipython3",
   "version": "3.11.4"
  }
 },
 "nbformat": 4,
 "nbformat_minor": 5
}
