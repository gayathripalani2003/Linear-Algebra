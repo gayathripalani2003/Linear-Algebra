{
 "cells": [
  {
   "cell_type": "code",
   "execution_count": 4,
   "id": "c996709b",
   "metadata": {},
   "outputs": [],
   "source": [
    "import numpy as np\n",
    "from numpy.linalg import eig,qr"
   ]
  },
  {
   "cell_type": "markdown",
   "id": "144bc538",
   "metadata": {},
   "source": [
    "## Step 1: Define Matrix"
   ]
  },
  {
   "cell_type": "code",
   "execution_count": 2,
   "id": "31203cad",
   "metadata": {},
   "outputs": [],
   "source": [
    "matrix = np.array([[2,1,0],[1,3,-1],[0,-1,4]])"
   ]
  },
  {
   "cell_type": "markdown",
   "id": "d9d5fcf6",
   "metadata": {},
   "source": [
    "## Step 2: Calculate Eigen values and Eignen vectors"
   ]
  },
  {
   "cell_type": "code",
   "execution_count": 5,
   "id": "0c2ce21e",
   "metadata": {
    "scrolled": true
   },
   "outputs": [
    {
     "name": "stdout",
     "output_type": "stream",
     "text": [
      "Eigen Values: [1.26794919 3.         4.73205081]\n",
      "Eigen Vectors: [[-0.78867513 -0.57735027 -0.21132487]\n",
      " [ 0.57735027 -0.57735027 -0.57735027]\n",
      " [ 0.21132487 -0.57735027  0.78867513]]\n"
     ]
    }
   ],
   "source": [
    "eigen_values,eigen_vectors = eig(matrix)\n",
    "print(\"Eigen Values:\",eigen_values)\n",
    "print(\"Eigen Vectors:\",eigen_vectors)"
   ]
  },
  {
   "cell_type": "markdown",
   "id": "65aa8931",
   "metadata": {},
   "source": [
    "# Step 3: Verify Eigen vectors that correspond to a distinct eigen values are indepednent"
   ]
  },
  {
   "cell_type": "markdown",
   "id": "f8469263",
   "metadata": {},
   "source": [
    "### Step 3.1: Check Eigen values are Distinct"
   ]
  },
  {
   "cell_type": "code",
   "execution_count": 15,
   "id": "00bc7197",
   "metadata": {},
   "outputs": [
    {
     "name": "stdout",
     "output_type": "stream",
     "text": [
      "Eigen Vectors are distinct\n"
     ]
    }
   ],
   "source": [
    "if len(eigen_values) == len(np.unique(eigen_values)):\n",
    "    print(\"Eigen Vectors are distinct\")\n",
    "else:\n",
    "    print(\"Eigen vectors are not distinct\")\n"
   ]
  },
  {
   "cell_type": "markdown",
   "id": "f0b39568",
   "metadata": {},
   "source": [
    "### Step 3.2: Check Linear Independance"
   ]
  },
  {
   "cell_type": "markdown",
   "id": "776480bf",
   "metadata": {},
   "source": [
    "#### Step 3.2.1: Make a Matrix by combining the eigen vectors"
   ]
  },
  {
   "cell_type": "code",
   "execution_count": 7,
   "id": "440f992c",
   "metadata": {},
   "outputs": [],
   "source": [
    "eig_matrix = np.column_stack(eigen_vectors)"
   ]
  },
  {
   "cell_type": "markdown",
   "id": "c163b25c",
   "metadata": {},
   "source": [
    "#### Step 3.2.2: Find the QR decomposition"
   ]
  },
  {
   "cell_type": "code",
   "execution_count": 9,
   "id": "33dfaff8",
   "metadata": {},
   "outputs": [],
   "source": [
    "rref,pivot_columns = qr(eig_matrix)"
   ]
  },
  {
   "cell_type": "code",
   "execution_count": 16,
   "id": "69ade063",
   "metadata": {},
   "outputs": [
    {
     "name": "stdout",
     "output_type": "stream",
     "text": [
      "[[-0.78867513  0.57735027  0.21132487]\n",
      " [-0.57735027 -0.57735027 -0.57735027]\n",
      " [-0.21132487 -0.57735027  0.78867513]]\n",
      "[[ 1.00000000e+00 -1.11022302e-16 -5.55111512e-17]\n",
      " [ 0.00000000e+00  1.00000000e+00  3.33066907e-16]\n",
      " [ 0.00000000e+00  0.00000000e+00  1.00000000e+00]]\n"
     ]
    }
   ],
   "source": [
    "print(rref)\n",
    "print(pivot_columns)"
   ]
  },
  {
   "cell_type": "markdown",
   "id": "effdc062",
   "metadata": {},
   "source": [
    "#### Step 3.2.4: Check independance "
   ]
  },
  {
   "cell_type": "code",
   "execution_count": 14,
   "id": "2e9045f0",
   "metadata": {
    "scrolled": false
   },
   "outputs": [
    {
     "name": "stdout",
     "output_type": "stream",
     "text": [
      "Eigen Vectors are Linearly Independent\n"
     ]
    }
   ],
   "source": [
    "if len(pivot_columns) == len(eigen_values):\n",
    "    print(\"Eigen Vectors are Linearly Independent\")\n",
    "else:\n",
    "    print(\"Eigen vectors are Linearly Dependent\")\n"
   ]
  },
  {
   "cell_type": "code",
   "execution_count": null,
   "id": "460c52e7",
   "metadata": {},
   "outputs": [],
   "source": []
  },
  {
   "cell_type": "code",
   "execution_count": null,
   "id": "3d42a9c1",
   "metadata": {},
   "outputs": [],
   "source": []
  },
  {
   "cell_type": "code",
   "execution_count": null,
   "id": "c91029b4",
   "metadata": {},
   "outputs": [],
   "source": []
  }
 ],
 "metadata": {
  "kernelspec": {
   "display_name": "Python 3 (ipykernel)",
   "language": "python",
   "name": "python3"
  },
  "language_info": {
   "codemirror_mode": {
    "name": "ipython",
    "version": 3
   },
   "file_extension": ".py",
   "mimetype": "text/x-python",
   "name": "python",
   "nbconvert_exporter": "python",
   "pygments_lexer": "ipython3",
   "version": "3.11.4"
  }
 },
 "nbformat": 4,
 "nbformat_minor": 5
}
